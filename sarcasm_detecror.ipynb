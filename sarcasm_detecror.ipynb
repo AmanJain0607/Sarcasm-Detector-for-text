{
  "cells": [
    {
      "cell_type": "code",
      "execution_count": null,
      "metadata": {
        "colab": {
          "base_uri": "https://localhost:8080/"
        },
        "id": "tJcNUzbumcBm",
        "outputId": "fd2d548f-4142-4069-f554-e0303926cefd"
      },
      "outputs": [
        {
          "output_type": "stream",
          "name": "stdout",
          "text": [
            "Classification Report:\n",
            "               precision    recall  f1-score   support\n",
            "\n",
            "           0       0.86      0.72      0.79     12146\n",
            "           1       0.45      0.67      0.54      4136\n",
            "\n",
            "    accuracy                           0.71     16282\n",
            "   macro avg       0.66      0.69      0.66     16282\n",
            "weighted avg       0.76      0.71      0.72     16282\n",
            "\n",
            "Confusion Matrix:\n",
            " [[8741 3405]\n",
            " [1373 2763]]\n"
          ]
        }
      ],
      "source": [
        "import pandas as pd\n",
        "import re\n",
        "from sklearn.model_selection import train_test_split\n",
        "from sklearn.feature_extraction.text import TfidfVectorizer\n",
        "from sklearn.linear_model import LogisticRegression\n",
        "from sklearn.metrics import classification_report, confusion_matrix\n",
        "\n",
        "# Load dataset\n",
        "df = pd.read_csv('train.csv')\n",
        "df.columns = ['tweets', 'class']\n",
        "\n",
        "# Binary label: sarcasm = 1, all others = 0\n",
        "df['label'] = df['class'].apply(lambda x: 1 if x.lower() == 'sarcasm' else 0)\n",
        "\n",
        "# Text cleaning\n",
        "def clean_text(text):\n",
        "    text = str(text).lower()\n",
        "    text = re.sub(r\"http\\S+|www\\S+\", \"\", text)\n",
        "    text = re.sub(r\"@\\w+|#\\w+\", \"\", text)\n",
        "    text = re.sub(r\"[^a-z0-9\\s']\", \"\", text)\n",
        "    text = re.sub(r\"\\s+\", \" \", text).strip()\n",
        "    return text\n",
        "\n",
        "df['cleaned_tweet'] = df['tweets'].apply(clean_text)\n",
        "\n",
        "# Train-test split\n",
        "X_train, X_test, y_train, y_test = train_test_split(\n",
        "    df['cleaned_tweet'], df['label'],\n",
        "    test_size=0.2,\n",
        "    random_state=42,\n",
        "    stratify=df['label']\n",
        ")\n",
        "\n",
        "# TF-IDF vectorizer with n-grams\n",
        "vectorizer = TfidfVectorizer(max_features=20000, sublinear_tf=True, ngram_range=(1,2))\n",
        "X_train_vec = vectorizer.fit_transform(X_train)\n",
        "X_test_vec = vectorizer.transform(X_test)\n",
        "\n",
        "# Train logistic regression with class weights\n",
        "model = LogisticRegression(C=0.75, class_weight='balanced', max_iter=1000)\n",
        "model.fit(X_train_vec, y_train)\n",
        "\n",
        "# Evaluate\n",
        "y_pred = model.predict(X_test_vec)\n",
        "print(\"Classification Report:\\n\", classification_report(y_test, y_pred))\n",
        "print(\"Confusion Matrix:\\n\", confusion_matrix(y_test, y_pred))\n",
        "\n",
        "\n",
        "# Predict sarcasm on a custom input\n",
        "while True:\n",
        "    user_input = input(\"\\nEnter a sentence (or type 'exit' to quit): \")\n",
        "    if user_input.lower() == 'exit':\n",
        "        break\n",
        "\n",
        "    cleaned_input = clean_text(user_input)\n",
        "    input_vec = vectorizer.transform([cleaned_input])\n",
        "    prediction = model.predict(input_vec)[0]\n",
        "    proba = model.predict_proba(input_vec)[0]\n",
        "\n",
        "    if prediction == 1:\n",
        "        print(\"Prediction: Sarcastic 😏\")\n",
        "    else:\n",
        "        print(\"Prediction: Regular 🙂\")\n",
        "\n",
        "    print(f\"Confidence - Regular: {proba[0]*100:.2f}% | Sarcastic: {proba[1]*100:.2f}%\")\n",
        "\n"
      ]
    }
  ],
  "metadata": {
    "colab": {
      "provenance": []
    },
    "kernelspec": {
      "display_name": "Python 3",
      "name": "python3"
    },
    "language_info": {
      "name": "python"
    }
  },
  "nbformat": 4,
  "nbformat_minor": 0
}